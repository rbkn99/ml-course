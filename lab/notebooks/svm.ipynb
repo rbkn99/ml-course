{
 "cells": [
  {
   "cell_type": "code",
   "execution_count": 2,
   "metadata": {
    "ExecuteTime": {
     "end_time": "2019-12-19T23:28:03.474875Z",
     "start_time": "2019-12-19T23:28:02.334584Z"
    }
   },
   "outputs": [],
   "source": [
    "import numpy as np\n",
    "import pandas as pd\n",
    "\n",
    "from sklearn.model_selection import KFold\n",
    "from sklearn.metrics import roc_auc_score, f1_score\n",
    "import matplotlib.pyplot as plt\n",
    "from sklearn.preprocessing import StandardScaler, MinMaxScaler"
   ]
  },
  {
   "cell_type": "code",
   "execution_count": 136,
   "metadata": {
    "ExecuteTime": {
     "end_time": "2019-12-21T00:33:49.761535Z",
     "start_time": "2019-12-21T00:33:49.751326Z"
    }
   },
   "outputs": [],
   "source": [
    "def polynomial(degree):\n",
    "    def _polynomial(x, _x):\n",
    "        return np.dot(x, _x.T) ** degree\n",
    "    return _polynomial\n",
    "\n",
    "def sigmoid(x, _x):\n",
    "    result = 1. / (1. + np.exp(-np.dot(x, _x.T)))\n",
    "#     print(result.shape)\n",
    "    return result\n",
    "\n",
    "\n",
    "def rbf(beta):\n",
    "    def _rbf(x, y):\n",
    "        if np.ndim(x) == 1 and np.ndim(y) == 1:\n",
    "            result = np.exp(-beta * (np.linalg.norm(x - y, 2)) ** 2)\n",
    "        elif (np.ndim(x) > 1 and np.ndim(y) == 1) or (np.ndim(x) == 1 and np.ndim(y) > 1):\n",
    "            result = np.exp(-beta * (np.linalg.norm(x - y, 2, axis=1) ** 2))\n",
    "        elif np.ndim(x) > 1 and np.ndim(y) > 1:\n",
    "            result = np.exp(-beta * (np.linalg.norm(x[:, np.newaxis] - y[np.newaxis, :], 2, axis=2) ** 2))\n",
    "        return result\n",
    "    return _rbf"
   ]
  },
  {
   "cell_type": "markdown",
   "metadata": {},
   "source": [
    "## SMO Implementation\n",
    "### [original paper](https://www.microsoft.com/en-us/research/wp-content/uploads/2016/02/tr-98-14.pdf)"
   ]
  },
  {
   "cell_type": "code",
   "execution_count": 149,
   "metadata": {
    "ExecuteTime": {
     "end_time": "2019-12-21T00:39:19.395552Z",
     "start_time": "2019-12-21T00:39:19.391801Z"
    }
   },
   "outputs": [],
   "source": [
    "class SMOModel:\n",
    "    def __init__(self, X, y, C, kernel, alphas, b, errors):\n",
    "        self.X = X               \n",
    "        self.y = y              \n",
    "        self.C = C               \n",
    "        self.kernel = kernel     \n",
    "        self.alphas = alphas     \n",
    "        self.b = b               \n",
    "        self.errors = errors     \n",
    "        self._obj = []           \n",
    "        self.m = len(self.X)\n",
    "   "
   ]
  },
  {
   "cell_type": "markdown",
   "metadata": {},
   "source": [
    "\\begin{equation*}\n",
    "max_{\\alpha}W(\\alpha) = \\sum_{i=1}^m \\alpha_i - \\frac{1}{2} \\sum_{i,j=1}^m y^{(i)} y^{(j)} \\alpha_i \\alpha_j \\langle x^{(i)}, x^{(j)} \\rangle \\\\\n",
    "0 \\leq \\alpha_{i} \\leq C, i = 1,...,m \\\\\n",
    "\\sum_{i=1}^m \\alpha_{i} y^{(i)} = 0\n",
    "\\end{equation*}"
   ]
  },
  {
   "cell_type": "code",
   "execution_count": 152,
   "metadata": {
    "ExecuteTime": {
     "end_time": "2019-12-21T01:45:44.732093Z",
     "start_time": "2019-12-21T01:45:44.728773Z"
    }
   },
   "outputs": [],
   "source": [
    "def objective_function(alphas, target, kernel, X_train):\n",
    "    return np.sum(alphas) - 0.5 * np.sum((target[:, None] * target[None, :]) * kernel(X_train, X_train) * (alphas[:, None] * alphas[None, :]))"
   ]
  },
  {
   "cell_type": "markdown",
   "metadata": {},
   "source": [
    "\\begin{equation*}\n",
    "f(x) = \\sum_{i=1}^m \\alpha_{i} y^{(i)} \\langle x^{(i)}, x^{(j)} \\rangle + b\n",
    "\\end{equation*}"
   ]
  },
  {
   "cell_type": "code",
   "execution_count": null,
   "metadata": {},
   "outputs": [],
   "source": [
    "def decision_function(alphas, target, kernel, X_train, x_test, b):\n",
    "    result = np.dot((alphas * target), kernel(X_train, x_test)) - b\n",
    "    return result"
   ]
  },
  {
   "cell_type": "code",
   "execution_count": 126,
   "metadata": {
    "ExecuteTime": {
     "end_time": "2019-12-21T00:30:40.909640Z",
     "start_time": "2019-12-21T00:30:40.890833Z"
    }
   },
   "outputs": [],
   "source": [
    "def take_step(i1, i2, model):    \n",
    "    # Skip if chosen alphas are the same\n",
    "    if i1 == i2:\n",
    "        return 0, model\n",
    "\n",
    "    alph1 = model.alphas[i1]\n",
    "    alph2 = model.alphas[i2]\n",
    "    y1 = model.y[i1]\n",
    "    y2 = model.y[i2]\n",
    "    E1 = model.errors[i1]\n",
    "    E2 = model.errors[i2]\n",
    "    s = y1 * y2\n",
    "\n",
    "    # Compute L & H, the bounds on new possible alpha values\n",
    "    if (y1 != y2):\n",
    "        L = max(0, alph2 - alph1)\n",
    "        H = min(model.C, model.C + alph2 - alph1)\n",
    "    elif (y1 == y2):\n",
    "        L = max(0, alph1 + alph2 - model.C)\n",
    "        H = min(model.C, alph1 + alph2)\n",
    "    if (L == H):\n",
    "        return 0, model\n",
    "\n",
    "    # Compute kernel & 2nd derivative eta\n",
    "    k11 = model.kernel(model.X[i1], model.X[i1])\n",
    "    k12 = model.kernel(model.X[i1], model.X[i2])\n",
    "    k22 = model.kernel(model.X[i2], model.X[i2])\n",
    "    eta = 2 * k12 - k11 - k22\n",
    "\n",
    "    # Compute new alpha 2 (a2) if eta is negative\n",
    "    if eta < 0:\n",
    "        a2 = alph2 - y2 * (E1 - E2) / eta\n",
    "        # Clip a2 based on bounds L & H\n",
    "        if L < a2 < H:\n",
    "            a2 = a2\n",
    "        elif (a2 <= L):\n",
    "            a2 = L\n",
    "        elif (a2 >= H):\n",
    "            a2 = H\n",
    "\n",
    "    # If eta is non-negative, move new a2 to bound with greater objective function value\n",
    "    else:\n",
    "        alphas_adj = model.alphas.copy()\n",
    "        alphas_adj[i2] = L\n",
    "        # objective function output with a2 = L\n",
    "        Lobj = objective_function(alphas_adj, model.y, model.kernel, model.X) \n",
    "        alphas_adj[i2] = H\n",
    "        # objective function output with a2 = H\n",
    "        Hobj = objective_function(alphas_adj, model.y, model.kernel, model.X)\n",
    "        if Lobj > (Hobj + eps):\n",
    "            a2 = L\n",
    "        elif Lobj < (Hobj - eps):\n",
    "            a2 = H\n",
    "        else:\n",
    "            a2 = alph2\n",
    "\n",
    "    # Push a2 to 0 or C if very close\n",
    "    if a2 < 1e-8:\n",
    "        a2 = 0.0\n",
    "    elif a2 > (model.C - 1e-8):\n",
    "        a2 = model.C\n",
    "\n",
    "    # If examples can't be optimized within epsilon (eps), skip this pair\n",
    "    if (np.abs(a2 - alph2) < eps * (a2 + alph2 + eps)):\n",
    "        return 0, model\n",
    "\n",
    "    # Calculate new alpha 1 (a1)\n",
    "    a1 = alph1 + s * (alph2 - a2)\n",
    "\n",
    "    # Update threshold b to reflect newly calculated alphas\n",
    "    # Calculate both possible thresholds\n",
    "    b1 = E1 + y1 * (a1 - alph1) * k11 + y2 * (a2 - alph2) * k12 + model.b\n",
    "    b2 = E2 + y1 * (a1 - alph1) * k12 + y2 * (a2 - alph2) * k22 + model.b\n",
    "\n",
    "    # Set new threshold based on if a1 or a2 is bound by L and/or H\n",
    "    if 0 < a1 and a1 < model.C:\n",
    "        b_new = b1\n",
    "    elif 0 < a2 and a2 < model.C:\n",
    "        b_new = b2\n",
    "    # Average thresholds if both are bound\n",
    "    else:\n",
    "        b_new = (b1 + b2) * 0.5\n",
    "\n",
    "    # Update model object with new alphas & threshold\n",
    "    model.alphas[i1] = a1\n",
    "    model.alphas[i2] = a2\n",
    "\n",
    "    # Update error cache\n",
    "    # Error cache for optimized alphas is set to 0 if they're unbound\n",
    "    for index, alph in zip([i1, i2], [a1, a2]):\n",
    "        if 0.0 < alph < model.C:\n",
    "            model.errors[index] = 0.0\n",
    "\n",
    "    # Set non-optimized errors based on equation 12.11 in Platt's book\n",
    "    non_opt = [n for n in range(model.m) if (n != i1 and n != i2)]\n",
    "    model.errors[non_opt] = model.errors[non_opt] + \\\n",
    "                            y1*(a1 - alph1)*model.kernel(model.X[i1], model.X[non_opt]) + \\\n",
    "                            y2*(a2 - alph2)*model.kernel(model.X[i2], model.X[non_opt]) + model.b - b_new\n",
    "\n",
    "    # Update model threshold\n",
    "    model.b = b_new\n",
    "\n",
    "    return 1, model"
   ]
  },
  {
   "cell_type": "code",
   "execution_count": 127,
   "metadata": {
    "ExecuteTime": {
     "end_time": "2019-12-21T00:30:40.919396Z",
     "start_time": "2019-12-21T00:30:40.911147Z"
    }
   },
   "outputs": [],
   "source": [
    "def examine_example(i2, model):\n",
    "\n",
    "    y2 = model.y[i2]\n",
    "    alph2 = model.alphas[i2]\n",
    "    E2 = model.errors[i2]\n",
    "    r2 = E2 * y2\n",
    "\n",
    "    # Proceed if error is within specified tolerance (tol)\n",
    "    if ((r2 < -tol and alph2 < model.C) or (r2 > tol and alph2 > 0)):\n",
    "\n",
    "        if len(model.alphas[(model.alphas != 0) & (model.alphas != model.C)]) > 1:\n",
    "            # Use 2nd choice heuristic is choose max difference in error\n",
    "            if model.errors[i2] > 0:\n",
    "                i1 = np.argmin(model.errors)\n",
    "            elif model.errors[i2] <= 0:\n",
    "                i1 = np.argmax(model.errors)\n",
    "            step_result, model = take_step(i1, i2, model)\n",
    "            if step_result:\n",
    "                return 1, model\n",
    "\n",
    "        # Loop through non-zero and non-C alphas, starting at a random point\n",
    "        for i1 in np.roll(np.where((model.alphas != 0) & (model.alphas != model.C))[0],\n",
    "                          np.random.choice(np.arange(model.m))):\n",
    "            step_result, model = take_step(i1, i2, model)\n",
    "            if step_result:\n",
    "                return 1, model\n",
    "\n",
    "        # loop through all alphas, starting at a random point\n",
    "        for i1 in np.roll(np.arange(model.m), np.random.choice(np.arange(model.m))):\n",
    "            step_result, model = take_step(i1, i2, model)\n",
    "            if step_result:\n",
    "                return 1, model\n",
    "\n",
    "    return 0, model"
   ]
  },
  {
   "cell_type": "code",
   "execution_count": 128,
   "metadata": {
    "ExecuteTime": {
     "end_time": "2019-12-21T00:30:40.927036Z",
     "start_time": "2019-12-21T00:30:40.920817Z"
    }
   },
   "outputs": [],
   "source": [
    "def train(model):\n",
    "\n",
    "    numChanged = 0\n",
    "    examineAll = 1\n",
    "\n",
    "    while(numChanged > 0) or (examineAll):\n",
    "        numChanged = 0\n",
    "        if examineAll:\n",
    "            # loop over all training examples\n",
    "            for i in range(model.alphas.shape[0]):\n",
    "                examine_result, model = examine_example(i, model)\n",
    "                numChanged += examine_result\n",
    "                if examine_result:\n",
    "                    obj_result = objective_function(model.alphas, model.y, model.kernel, model.X)\n",
    "                    model._obj.append(obj_result)\n",
    "        else:\n",
    "            # loop over examples where alphas are not already at their limits\n",
    "            for i in np.where((model.alphas != 0) & (model.alphas != model.C))[0]:\n",
    "                examine_result, model = examine_example(i, model)\n",
    "                numChanged += examine_result\n",
    "                if examine_result:\n",
    "                    obj_result = objective_function(model.alphas, model.y, model.kernel, model.X)\n",
    "                    model._obj.append(obj_result)\n",
    "        if examineAll == 1:\n",
    "            examineAll = 0\n",
    "        elif numChanged == 0:\n",
    "            examineAll = 1\n",
    "\n",
    "    return model"
   ]
  },
  {
   "cell_type": "code",
   "execution_count": 129,
   "metadata": {
    "ExecuteTime": {
     "end_time": "2019-12-21T00:30:40.930910Z",
     "start_time": "2019-12-21T00:30:40.928446Z"
    }
   },
   "outputs": [],
   "source": [
    "def calc_weights(model):\n",
    "    return np.dot(model.alphas * model.y, model.X)"
   ]
  },
  {
   "cell_type": "code",
   "execution_count": 130,
   "metadata": {
    "ExecuteTime": {
     "end_time": "2019-12-21T00:30:40.934984Z",
     "start_time": "2019-12-21T00:30:40.932124Z"
    }
   },
   "outputs": [],
   "source": [
    "def predict(model, weights, X):\n",
    "    return np.dot(weights, X.T) - np.array([model.b for _ in range(len(X))])"
   ]
  },
  {
   "cell_type": "code",
   "execution_count": 131,
   "metadata": {
    "ExecuteTime": {
     "end_time": "2019-12-21T00:30:40.943277Z",
     "start_time": "2019-12-21T00:30:40.937084Z"
    }
   },
   "outputs": [],
   "source": [
    "chips_df = pd.read_csv('../input/chips.csv')\n",
    "geyser_df = pd.read_csv('../input/geyser.csv')\n",
    "\n",
    "random_state = 1337"
   ]
  },
  {
   "cell_type": "code",
   "execution_count": 153,
   "metadata": {
    "ExecuteTime": {
     "end_time": "2019-12-21T02:27:20.371468Z",
     "start_time": "2019-12-21T02:27:20.363105Z"
    }
   },
   "outputs": [],
   "source": [
    "def plot_decision_boundary(model, ax, resolution=100, colors=('b', 'k', 'r'), levels=(-1, 0, 1)):\n",
    "        xrange = np.linspace(model.X[:,0].min(), model.X[:,0].max(), resolution)\n",
    "        yrange = np.linspace(model.X[:,1].min(), model.X[:,1].max(), resolution)\n",
    "        grid = [[decision_function(model.alphas, model.y,\n",
    "                                   model.kernel, model.X,\n",
    "                                   np.array([xr, yr]), model.b) for xr in xrange] for yr in yrange]\n",
    "        grid = np.array(grid).reshape(len(xrange), len(yrange))\n",
    "        \n",
    "        ax.contour(xrange, yrange, grid, levels=levels, linewidths=(1, 1, 1),\n",
    "                   linestyles=('--', '-', '--'), colors=colors)\n",
    "        ax.scatter(model.X[:,0], model.X[:,1],\n",
    "                   c=model.y, cmap=plt.cm.viridis, lw=0, alpha=0.25)\n",
    "        \n",
    "        mask = np.round(model.alphas, decimals=2) != 0.0\n",
    "        ax.scatter(model.X[mask,0], model.X[mask,1],\n",
    "                   c=model.y[mask], cmap=plt.cm.viridis, lw=1, edgecolors='k')\n",
    "        \n",
    "        return grid, ax"
   ]
  },
  {
   "cell_type": "code",
   "execution_count": 147,
   "metadata": {
    "ExecuteTime": {
     "end_time": "2019-12-21T00:37:51.716572Z",
     "start_time": "2019-12-21T00:37:51.704711Z"
    }
   },
   "outputs": [],
   "source": [
    "def eval_svm(X, y):\n",
    "    kernels = {\n",
    "        'poly1': polynomial(1),\n",
    "        'poly2': polynomial(2),\n",
    "        'poly3': polynomial(3),\n",
    "        'poly4': polynomial(4),\n",
    "        'poly5': polynomial(5),\n",
    "        'rbf-default': rbf(1. / X.shape[1]),\n",
    "        'rbf1': rbf(1),\n",
    "        'rbf-1': rbf(0.1),\n",
    "        'rbf-2': rbf(1e-2),\n",
    "    }\n",
    "    n_splits = 4\n",
    "    best_score = 0\n",
    "    best_kernel = None\n",
    "\n",
    "    for kernel in kernels:\n",
    "        mean_score = 0\n",
    "        kf = KFold(n_splits=n_splits, shuffle=True, random_state=random_state)\n",
    "        for train_indices, test_indices in kf.split(X):\n",
    "            X_train, X_test, y_train, y_test = X[train_indices], X[test_indices], y[train_indices], y[test_indices]\n",
    "            C = 1000.0\n",
    "            m = len(X_train)\n",
    "            initial_alphas = np.zeros(m)\n",
    "            initial_b = 0.0\n",
    "\n",
    "            # Instantiate model\n",
    "            model = SMOModel(X_train, y_train, C, kernels[kernel],\n",
    "                             initial_alphas, initial_b, np.zeros(m))\n",
    "\n",
    "            # Initialize error cache\n",
    "            initial_error = decision_function(model.alphas, model.y, model.kernel,\n",
    "                                              model.X, model.X, model.b) - model.y\n",
    "            model.errors = initial_error\n",
    "            trained_model = train(model)\n",
    "            weights = calc_weights(model)\n",
    "            y_pred = predict(model, weights, X_test)\n",
    "            \n",
    "            mean_score += roc_auc_score(y_test, y_pred)\n",
    "        mean_score /= n_splits\n",
    "        if mean_score > best_score:\n",
    "            best_score = mean_score\n",
    "            best_kernel = kernel\n",
    "        print('ROC-AUC score for {} = {:.5f}'.format(kernel, mean_score))\n",
    "    print('best kernel is {}'.format(best_kernel))"
   ]
  },
  {
   "cell_type": "code",
   "execution_count": 148,
   "metadata": {
    "ExecuteTime": {
     "end_time": "2019-12-21T00:39:19.347820Z",
     "start_time": "2019-12-21T00:38:01.725979Z"
    },
    "scrolled": true
   },
   "outputs": [
    {
     "name": "stdout",
     "output_type": "stream",
     "text": [
      "ROC-AUC score for poly1 = 0.41719\n",
      "ROC-AUC score for poly2 = 0.40749\n",
      "ROC-AUC score for poly3 = 0.43456\n",
      "ROC-AUC score for poly4 = 0.46899\n",
      "ROC-AUC score for poly5 = 0.45332\n",
      "ROC-AUC score for rbf-default = 0.42844\n",
      "ROC-AUC score for rbf1 = 0.54436\n",
      "ROC-AUC score for rbf-1 = 0.56997\n",
      "ROC-AUC score for rbf-2 = 0.48205\n",
      "best kernel is rbf-1\n"
     ]
    }
   ],
   "source": [
    "# Set tolerances\n",
    "tol = 0.01 # error tolerance\n",
    "eps = 0.01 # alpha tolerance\n",
    "\n",
    "X = chips_df.drop('class', axis=1).to_numpy()\n",
    "y = chips_df['class'].replace('N', -1).replace('P', 1).to_numpy()\n",
    "X = MinMaxScaler().fit_transform(X)\n",
    "eval_svm(X, y)"
   ]
  },
  {
   "cell_type": "code",
   "execution_count": 151,
   "metadata": {
    "ExecuteTime": {
     "end_time": "2019-12-21T00:39:26.772822Z",
     "start_time": "2019-12-21T00:39:25.166829Z"
    }
   },
   "outputs": [
    {
     "data": {
      "image/png": "[encoded data removed]",
      "text/plain": [
       "<Figure size 432x288 with 1 Axes>"
      ]
     },
     "metadata": {
      "needs_background": "light"
     },
     "output_type": "display_data"
    }
   ],
   "source": [
    "C = 1000.0\n",
    "m = len(X)\n",
    "initial_alphas = np.zeros(m)\n",
    "initial_b = 0.0\n",
    "# Instantiate model\n",
    "model = SMOModel(X, y, C, rbf(0.1),\n",
    "                 initial_alphas, initial_b, np.zeros(m))\n",
    "\n",
    "# Initialize error cache\n",
    "initial_error = decision_function(model.alphas, model.y, model.kernel,\n",
    "                                  model.X, model.X, model.b) - model.y\n",
    "model.errors = initial_error\n",
    "\n",
    "\n",
    "np.random.seed(0)\n",
    "output = train(model)\n",
    "\n",
    "fig, ax = plt.subplots()\n",
    "grid, ax = plot_decision_boundary(output, ax)"
   ]
  },
  {
   "cell_type": "code",
   "execution_count": 93,
   "metadata": {
    "ExecuteTime": {
     "end_time": "2019-12-21T00:14:58.797737Z",
     "start_time": "2019-12-21T00:14:07.715042Z"
    }
   },
   "outputs": [
    {
     "name": "stdout",
     "output_type": "stream",
     "text": [
      "ROC-AUC score for poly1 = 0.93347\n",
      "ROC-AUC score for poly2 = 0.91493\n",
      "ROC-AUC score for poly3 = 0.88861\n",
      "ROC-AUC score for poly4 = 0.92143\n",
      "ROC-AUC score for poly5 = 0.92209\n",
      "ROC-AUC score for sigmoid = 0.75745\n",
      "best kernel is poly1\n"
     ]
    }
   ],
   "source": [
    "# Set tolerances\n",
    "tol = 0.01 # error tolerance\n",
    "eps = 0.01 # alpha tolerance\n",
    "\n",
    "X = geyser_df.drop('class', axis=1).to_numpy()\n",
    "y = geyser_df['class'].replace('N', -1).replace('P', 1).to_numpy()\n",
    "X = MinMaxScaler().fit_transform(X)\n",
    "eval_svm(X, y)"
   ]
  },
  {
   "cell_type": "code",
   "execution_count": 100,
   "metadata": {
    "ExecuteTime": {
     "end_time": "2019-12-21T00:16:37.707273Z",
     "start_time": "2019-12-21T00:16:36.665342Z"
    }
   },
   "outputs": [
    {
     "data": {
      "image/png": "[encoded data removed]",
      "text/plain": [
       "<Figure size 432x288 with 1 Axes>"
      ]
     },
     "metadata": {
      "needs_background": "light"
     },
     "output_type": "display_data"
    }
   ],
   "source": [
    "C = 1\n",
    "m = len(X)\n",
    "initial_alphas = np.zeros(m)\n",
    "initial_b = 0.0\n",
    "# Instantiate model\n",
    "model = SMOModel(X, y, C, polynomial(1),\n",
    "                 initial_alphas, initial_b, np.zeros(m))\n",
    "\n",
    "# Initialize error cache\n",
    "initial_error = decision_function(model.alphas, model.y, model.kernel,\n",
    "                                  model.X, model.X, model.b) - model.y\n",
    "model.errors = initial_error\n",
    "\n",
    "\n",
    "np.random.seed(0)\n",
    "output = train(model)\n",
    "\n",
    "fig, ax = plt.subplots()\n",
    "grid, ax = plot_decision_boundary(output, ax)"
   ]
  },
  {
   "cell_type": "code",
   "execution_count": null,
   "metadata": {},
   "outputs": [],
   "source": []
  }
 ],
 "metadata": {
  "kernelspec": {
   "display_name": "Python 3",
   "language": "python",
   "name": "python3"
  },
  "language_info": {
   "codemirror_mode": {
    "name": "ipython",
    "version": 3
   },
   "file_extension": ".py",
   "mimetype": "text/x-python",
   "name": "python",
   "nbconvert_exporter": "python",
   "pygments_lexer": "ipython3",
   "version": "3.7.5"
  },
  "varInspector": {
   "cols": {
    "lenName": 16,
    "lenType": 16,
    "lenVar": 40
   },
   "kernels_config": {
    "python": {
     "delete_cmd_postfix": "",
     "delete_cmd_prefix": "del ",
     "library": "var_list.py",
     "varRefreshCmd": "print(var_dic_list())"
    },
    "r": {
     "delete_cmd_postfix": ") ",
     "delete_cmd_prefix": "rm(",
     "library": "var_list.r",
     "varRefreshCmd": "cat(var_dic_list()) "
    }
   },
   "types_to_exclude": [
    "module",
    "function",
    "builtin_function_or_method",
    "instance",
    "_Feature"
   ],
   "window_display": false
  }
 },
 "nbformat": 4,
 "nbformat_minor": 2
}
