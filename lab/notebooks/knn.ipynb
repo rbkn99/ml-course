{
 "cells": [
  {
   "cell_type": "code",
   "execution_count": null,
   "metadata": {
    "ExecuteTime": {
     "end_time": "2019-11-22T09:09:15.294327Z",
     "start_time": "2019-11-22T09:09:15.016264Z"
    }
   },
   "outputs": [],
   "source": [
    "import pandas as pd\n",
    "import numpy as np\n",
    "\n",
    "pd.set_option(\"display.max_columns\", 100)"
   ]
  },
  {
   "cell_type": "code",
   "execution_count": null,
   "metadata": {
    "ExecuteTime": {
     "end_time": "2019-11-22T09:09:15.777190Z",
     "start_time": "2019-11-22T09:09:15.296220Z"
    }
   },
   "outputs": [],
   "source": [
    "df = pd.read_csv('../input/pocker-hand.csv')\n",
    "df.shape"
   ]
  },
  {
   "cell_type": "markdown",
   "metadata": {},
   "source": [
    "#### big boi, let's make a subset of it"
   ]
  },
  {
   "cell_type": "code",
   "execution_count": null,
   "metadata": {
    "ExecuteTime": {
     "end_time": "2019-11-22T09:09:15.812986Z",
     "start_time": "2019-11-22T09:09:15.778714Z"
    }
   },
   "outputs": [],
   "source": [
    "df = df.sample(1000)"
   ]
  },
  {
   "cell_type": "code",
   "execution_count": null,
   "metadata": {
    "ExecuteTime": {
     "end_time": "2019-11-22T09:09:15.824069Z",
     "start_time": "2019-11-22T09:09:15.814408Z"
    }
   },
   "outputs": [],
   "source": [
    "df.head()"
   ]
  },
  {
   "cell_type": "code",
   "execution_count": null,
   "metadata": {
    "ExecuteTime": {
     "end_time": "2019-11-22T09:09:15.828898Z",
     "start_time": "2019-11-22T09:09:15.825571Z"
    }
   },
   "outputs": [],
   "source": [
    "X = df.drop(['Class'], axis=1)\n",
    "y = df['Class']"
   ]
  },
  {
   "cell_type": "markdown",
   "metadata": {},
   "source": [
    "### Data preparation. Use label encoding for categorial ordinal features and one-hot encoding for nominal"
   ]
  },
  {
   "cell_type": "markdown",
   "metadata": {},
   "source": [
    "#### first of all, let's check df for nan values"
   ]
  },
  {
   "cell_type": "code",
   "execution_count": null,
   "metadata": {
    "ExecuteTime": {
     "end_time": "2019-11-22T09:09:15.834064Z",
     "start_time": "2019-11-22T09:09:15.830167Z"
    }
   },
   "outputs": [],
   "source": [
    "for col in X.columns:\n",
    "    if X[col].isnull().values.any():\n",
    "        print(col)"
   ]
  },
  {
   "cell_type": "code",
   "execution_count": null,
   "metadata": {},
   "outputs": [],
   "source": []
  },
  {
   "cell_type": "code",
   "execution_count": null,
   "metadata": {
    "ExecuteTime": {
     "end_time": "2019-11-22T09:09:15.858788Z",
     "start_time": "2019-11-22T09:09:15.836204Z"
    }
   },
   "outputs": [],
   "source": [
    "for col in ['V1', 'V3', 'V5', 'V7', 'V9']:\n",
    "    X = pd.get_dummies(X, columns=[col], prefix='bin_' + col, dtype=np.int64)"
   ]
  },
  {
   "cell_type": "code",
   "execution_count": null,
   "metadata": {
    "ExecuteTime": {
     "end_time": "2019-11-22T09:09:15.874979Z",
     "start_time": "2019-11-22T09:09:15.860580Z"
    }
   },
   "outputs": [],
   "source": [
    "print(X.shape)\n",
    "X.head()"
   ]
  },
  {
   "cell_type": "markdown",
   "metadata": {},
   "source": [
    "#### Wow, it looks much better! Let's normalize it also"
   ]
  },
  {
   "cell_type": "code",
   "execution_count": null,
   "metadata": {
    "ExecuteTime": {
     "end_time": "2019-11-22T09:09:15.899684Z",
     "start_time": "2019-11-22T09:09:15.876366Z"
    }
   },
   "outputs": [],
   "source": [
    "X = (X - X.min()) / (X.max() - X.min())"
   ]
  },
  {
   "cell_type": "code",
   "execution_count": null,
   "metadata": {
    "ExecuteTime": {
     "end_time": "2019-11-22T09:09:15.921723Z",
     "start_time": "2019-11-22T09:09:15.901117Z"
    }
   },
   "outputs": [],
   "source": [
    "X.head()"
   ]
  },
  {
   "cell_type": "markdown",
   "metadata": {},
   "source": [
    "#### Finally, do some fun things with hyper paramethers"
   ]
  },
  {
   "cell_type": "code",
   "execution_count": null,
   "metadata": {
    "ExecuteTime": {
     "end_time": "2019-11-22T09:09:15.925161Z",
     "start_time": "2019-11-22T09:09:15.922907Z"
    }
   },
   "outputs": [],
   "source": [
    "# add our super cool c++ lib to path\n",
    "import sys\n",
    "sys.path.insert(0, '/Users/konstantin.rybkin/projects/huawei-ml-course/shared')"
   ]
  },
  {
   "cell_type": "code",
   "execution_count": null,
   "metadata": {
    "ExecuteTime": {
     "end_time": "2019-11-22T09:09:15.930597Z",
     "start_time": "2019-11-22T09:09:15.926387Z"
    }
   },
   "outputs": [],
   "source": [
    "# from core.metrics import F1Score\n",
    "from core.knn import Dataset, NonParametricRegressor"
   ]
  },
  {
   "cell_type": "code",
   "execution_count": null,
   "metadata": {
    "ExecuteTime": {
     "end_time": "2019-11-22T09:09:15.940328Z",
     "start_time": "2019-11-22T09:09:15.932626Z"
    }
   },
   "outputs": [],
   "source": [
    "best_metric = \"\"\n",
    "best_kernel = \"\"\n",
    "best_window_type = \"\"\n",
    "best_window = 0\n",
    "\n",
    "best_accuracy = 0\n",
    "\n",
    "\n",
    "def find_acc(regressor, n, metric, kernel, window_type, h):\n",
    "    cm = [[0, 0], [0, 0]]\n",
    "                \n",
    "    correct_count = 0\n",
    "    for i in range(n): # LOO\n",
    "        predicted, actual = regressor.loo_validate(i, metric, kernel, window_type, h)\n",
    "        predicted = int(predicted)\n",
    "        actual = int(actual)\n",
    "        if predicted == actual:\n",
    "            correct_count += 1\n",
    "    return correct_count / n\n",
    "\n",
    "def upd_bests(regressor, n, metric, kernel, window_type, h):\n",
    "    global best_metric, best_kernel, best_window_type, best_window, best_accuracy\n",
    "    \n",
    "    acc = find_acc(regressor, n, metric, kernel, window_type, h)\n",
    "    if acc > best_accuracy:\n",
    "        best_metric = metric\n",
    "        best_kernel = kernel\n",
    "        best_window_type = window_type\n",
    "        best_window = h\n",
    "        best_accuracy = acc\n",
    "        \n",
    "        print('new best result: {:.4f}'.format(best_accuracy))"
   ]
  },
  {
   "cell_type": "code",
   "execution_count": null,
   "metadata": {
    "ExecuteTime": {
     "end_time": "2019-11-22T09:19:19.676329Z",
     "start_time": "2019-11-22T09:09:15.942076Z"
    },
    "scrolled": true
   },
   "outputs": [],
   "source": [
    "metrics = [\n",
    "    \"manhattan\",\n",
    "    \"euclidean\",\n",
    "    \"chebyshev\"\n",
    "]\n",
    "kernels = [\n",
    "    \"uniform\",\n",
    "    \"triangular\",\n",
    "    \"epanechnikov\",\n",
    "    \"quartic\",\n",
    "    \"triweight\",\n",
    "    \"tricube\",\n",
    "    \"gaussian\",\n",
    "    \"cosine\",\n",
    "    \"logistic\",\n",
    "    \"sigmoid\"\n",
    "]\n",
    "\n",
    "normalized_df = X.assign(y=y.values)\n",
    "lib_dataset = Dataset(normalized_df.values)\n",
    "regressor = NonParametricRegressor(lib_dataset)\n",
    "\n",
    "for metric in metrics:\n",
    "    for kernel in kernels:\n",
    "        print('searching best params for {}/{}/fixed...'.format(metric, kernel))\n",
    "        # fixed window\n",
    "        for h in [0.05, 0.1, 0.5, 1, 3, 5, 10]:\n",
    "            upd_bests(regressor, lib_dataset.n(), metric, kernel, 'fixed', h)\n",
    "\n",
    "        print('searching best params for {}/{}/variable...'.format(metric, kernel))\n",
    "        # variable window\n",
    "        for k in [1, 5, 10]:\n",
    "            upd_bests(regressor, lib_dataset.n(), metric, kernel, 'variable', k)\n",
    "        print('-----------------------')"
   ]
  },
  {
   "cell_type": "code",
   "execution_count": null,
   "metadata": {
    "ExecuteTime": {
     "end_time": "2019-11-22T09:19:19.681752Z",
     "start_time": "2019-11-22T09:19:19.678243Z"
    }
   },
   "outputs": [],
   "source": [
    "best_metric, best_kernel, best_window_type, best_window, best_accuracy"
   ]
  },
  {
   "cell_type": "markdown",
   "metadata": {},
   "source": [
    "#### finally we find some more data about f1 score and plot graphs on it"
   ]
  },
  {
   "cell_type": "code",
   "execution_count": null,
   "metadata": {
    "ExecuteTime": {
     "end_time": "2019-11-22T09:24:26.654112Z",
     "start_time": "2019-11-22T09:19:19.684005Z"
    },
    "scrolled": true
   },
   "outputs": [],
   "source": [
    "import plotly.graph_objects as go\n",
    "\n",
    "acc_fixed = []\n",
    "acc_variable = []\n",
    "\n",
    "for h in range(50):\n",
    "    print('current h:', h)\n",
    "    acc_fixed.append((h, find_acc(regressor, lib_dataset.n(), 'manhattan', 'triweight', 'fixed', h)))\n",
    "\n",
    "# variable window\n",
    "for k in range(1, 200, 4):\n",
    "    print('current k:', k)\n",
    "    acc_variable.append((k, find_acc(regressor, lib_dataset.n(), 'manhattan', 'triweight', 'variable', k)))"
   ]
  },
  {
   "cell_type": "code",
   "execution_count": null,
   "metadata": {
    "ExecuteTime": {
     "end_time": "2019-11-22T09:24:27.895905Z",
     "start_time": "2019-11-22T09:24:26.655557Z"
    }
   },
   "outputs": [],
   "source": [
    "fig1 = go.Figure(data=go.Scatter(x=list(map(lambda x: x[0], acc_fixed)), \n",
    "                                 y=list(map(lambda x: x[1], acc_fixed))))\n",
    "fig2 = go.Figure(data=go.Scatter(x=list(map(lambda x: x[0], acc_variable)), \n",
    "                                 y=list(map(lambda x: x[1], acc_variable))))\n",
    "fig1.update_layout(title='Fixed window', xaxis_title='size', yaxis_title='accuracy')\n",
    "fig2.update_layout(title='Variable window', xaxis_title='neighbors number', yaxis_title='accuracy')\n",
    "fig1.show()\n",
    "fig2.show()"
   ]
  },
  {
   "cell_type": "code",
   "execution_count": null,
   "metadata": {},
   "outputs": [],
   "source": []
  }
 ],
 "metadata": {
  "kernelspec": {
   "display_name": "Python 3",
   "language": "python",
   "name": "python3"
  },
  "language_info": {
   "codemirror_mode": {
    "name": "ipython",
    "version": 3
   },
   "file_extension": ".py",
   "mimetype": "text/x-python",
   "name": "python",
   "nbconvert_exporter": "python",
   "pygments_lexer": "ipython3",
   "version": "3.7.5"
  },
  "varInspector": {
   "cols": {
    "lenName": 16,
    "lenType": 16,
    "lenVar": 40
   },
   "kernels_config": {
    "python": {
     "delete_cmd_postfix": "",
     "delete_cmd_prefix": "del ",
     "library": "var_list.py",
     "varRefreshCmd": "print(var_dic_list())"
    },
    "r": {
     "delete_cmd_postfix": ") ",
     "delete_cmd_prefix": "rm(",
     "library": "var_list.r",
     "varRefreshCmd": "cat(var_dic_list()) "
    }
   },
   "types_to_exclude": [
    "module",
    "function",
    "builtin_function_or_method",
    "instance",
    "_Feature"
   ],
   "window_display": false
  }
 },
 "nbformat": 4,
 "nbformat_minor": 2
}
